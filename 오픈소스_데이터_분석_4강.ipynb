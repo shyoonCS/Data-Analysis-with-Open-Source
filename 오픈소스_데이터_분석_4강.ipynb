{
  "nbformat": 4,
  "nbformat_minor": 0,
  "metadata": {
    "colab": {
      "provenance": [],
      "include_colab_link": true
    },
    "kernelspec": {
      "name": "python3",
      "display_name": "Python 3"
    },
    "language_info": {
      "name": "python"
    }
  },
  "cells": [
    {
      "cell_type": "markdown",
      "metadata": {
        "id": "view-in-github",
        "colab_type": "text"
      },
      "source": [
        "<a href=\"https://colab.research.google.com/github/shyoonCS/Data-Analysis-with-Open-Source/blob/main/%EC%98%A4%ED%94%88%EC%86%8C%EC%8A%A4_%EB%8D%B0%EC%9D%B4%ED%84%B0_%EB%B6%84%EC%84%9D_4%EA%B0%95.ipynb\" target=\"_parent\"><img src=\"https://colab.research.google.com/assets/colab-badge.svg\" alt=\"Open In Colab\"/></a>"
      ]
    },
    {
      "cell_type": "markdown",
      "source": [
        "\n",
        "\n",
        "# 오픈소스 기반 데이터 분석 4강 - 데이터 수집\n"
      ],
      "metadata": {
        "id": "DkPKaAsoRq5Q"
      }
    },
    {
      "cell_type": "markdown",
      "source": [
        "## 4-1 CSV 파일 읽기"
      ],
      "metadata": {
        "id": "-I7BVVlnRrB0"
      }
    },
    {
      "cell_type": "code",
      "source": [
        "import pandas as pd\n",
        "\n",
        "## data.csv 파일 읽기\n",
        "df = pd.read_csv('data.csv', encoding='utf-8', sep=',', header =0,\n",
        "                 index_col =None, skiprows=None, nrows=None)\n",
        "\n",
        "print(df)"
      ],
      "metadata": {
        "id": "2Y2HEiaiRwAI",
        "colab": {
          "base_uri": "https://localhost:8080/"
        },
        "outputId": "6a8072e9-3772-4fda-d13e-dbf5e7d185e6"
      },
      "execution_count": 4,
      "outputs": [
        {
          "output_type": "stream",
          "name": "stdout",
          "text": [
            "           날짜    체중  골격근량  체지방량\n",
            "0  2025.02.06  64.7  30.0  11.1\n",
            "1  2025.02.04  64.0  29.3  11.6\n"
          ]
        }
      ]
    },
    {
      "cell_type": "markdown",
      "source": [
        "## 4-2 JSON 파일 읽기\n",
        "\n"
      ],
      "metadata": {
        "id": "9kHCFaGlRrE0"
      }
    },
    {
      "cell_type": "code",
      "source": [
        "import json\n",
        "import pandas as pd\n",
        "\n",
        "## data.json 파일 출력\n",
        "with open('data.json', mode ='r', encoding ='utf-8') as f:\n",
        "  data = json.load(f)\n",
        "print(data)\n",
        "## data.json 파일 DataFrame 읽기\n",
        "df = pd.read_json('data.json', orient='records',\n",
        "                  encoding = 'utf-8', lines = False )\n",
        "\n",
        "print(df)"
      ],
      "metadata": {
        "id": "IO8bsKekR0W_",
        "colab": {
          "base_uri": "https://localhost:8080/"
        },
        "outputId": "9e495200-01c2-46ea-8723-6d8e2668e864"
      },
      "execution_count": 8,
      "outputs": [
        {
          "output_type": "stream",
          "name": "stdout",
          "text": [
            "{'매출데이터': [{'월': '2025-01', '매출액': 1000000, '비용': 700000, '이익': 300000}, {'월': '2025-02', '매출액': 1200000, '비용': 800000, '이익': 400000}, {'월': '2025-03', '매출액': 1500000, '비용': 900000, '이익': 600000}]}\n",
            "                                               매출데이터\n",
            "0  {'월': '2025-01', '매출액': 1000000, '비용': 700000,...\n",
            "1  {'월': '2025-02', '매출액': 1200000, '비용': 800000,...\n",
            "2  {'월': '2025-03', '매출액': 1500000, '비용': 900000,...\n"
          ]
        }
      ]
    },
    {
      "cell_type": "markdown",
      "source": [
        "## 4-3 텍스트 파일 읽기 및 데이터 추출"
      ],
      "metadata": {
        "id": "uLd_3A_IRrHG"
      }
    },
    {
      "cell_type": "code",
      "source": [
        "import re #정규식 regular expression 라이브러리\n",
        "\n",
        "## 파일(callcenter20250301.log) 오픈 및 읽기\n",
        "with open('callcenter20250301.log', 'r', encoding='utf-8') as f:\n",
        "    content = f.read()\n",
        "## 주민등록번호 패턴 생성 - 정규표현식 r'표현'\n",
        "pattern = re.compile(r'(\\d{6})-(\\d{7})')\n",
        "\n",
        "## 주민등록번호 마스킹 #패턴 일치하면 치환 substitution \\1 첫번째 그룹은 그대로, 두번째 그룹 마스킹\n",
        "masked_content = pattern.sub(r'\\1-*******', content)\n",
        "\n",
        "## 마스킹된 파일(callcenter20250301_masked.log) 오픈 및 쓰기\n",
        "with open('callcenter20250301_masked.log', mode='w') as f :\n",
        "  f.write(masked_content)\n",
        "\n",
        "print(\"주민등록번호 마스킹 완료. 'callcenter20250301_masked.log.txt' 파일로 저장되었습니다.\")"
      ],
      "metadata": {
        "id": "60qOf7uxVdAg",
        "colab": {
          "base_uri": "https://localhost:8080/"
        },
        "outputId": "39d7b6f7-d1b7-4540-ce39-4e6717783860"
      },
      "execution_count": 9,
      "outputs": [
        {
          "output_type": "stream",
          "name": "stdout",
          "text": [
            "주민등록번호 마스킹 완료. 'callcenter20250301_masked.log.txt' 파일로 저장되었습니다.\n"
          ]
        }
      ]
    },
    {
      "cell_type": "markdown",
      "source": [],
      "metadata": {
        "id": "LWAeh54lMqSE"
      }
    },
    {
      "cell_type": "markdown",
      "source": [],
      "metadata": {
        "id": "tItD-x51Mpm-"
      }
    },
    {
      "cell_type": "markdown",
      "source": [],
      "metadata": {
        "id": "l8A2XOqZMo3Y"
      }
    },
    {
      "cell_type": "markdown",
      "source": [],
      "metadata": {
        "id": "sNqI77tyMnpn"
      }
    },
    {
      "cell_type": "markdown",
      "source": [],
      "metadata": {
        "id": "viNbu4knMnmH"
      }
    },
    {
      "cell_type": "markdown",
      "source": [],
      "metadata": {
        "id": "j8ck1s4lMnTW"
      }
    },
    {
      "cell_type": "markdown",
      "source": [],
      "metadata": {
        "id": "EEZWVF3aMff1"
      }
    },
    {
      "cell_type": "markdown",
      "source": [
        "## 4-4 Open-Meteo의 무료 날씨 API를 통한 특정 지역 온도 조회"
      ],
      "metadata": {
        "id": "eOMufu5SXiAU"
      }
    },
    {
      "cell_type": "code",
      "source": [
        "import requests\n",
        "import json\n",
        "\n",
        "url = \"https://api.open-meteo.com/v1/forecast?=&=&current=temperature_2m\"\n",
        "params = {\n",
        "    \"latitude\": \"37.58638333\",\n",
        "    \"longitude\": \"127.0203333\",\n",
        "    \"current\": \"temperature_2m\"\n",
        "}\n",
        "\n",
        "try:\n",
        "    ## URL 및 파라미터 전송\n",
        "    response = requests.get(url, params=params)\n",
        "    response.raise_for_status()\n",
        "\n",
        "    ## JSON 데이터 읽기\n",
        "    data = response.json()\n",
        "\n",
        "    print(\"API 응답:\", data)\n",
        "    print(\"서울시 종로구의 현재 온도는 : {0}{1} 입니다.\".format(data['current']['temperature_2m'], data['current_units']['temperature_2m']))\n",
        "\n",
        "except requests.exceptions.RequestException as e:\n",
        "    print(f\"API 호출 실패: {e}\")\n",
        "except json.JSONDecodeError as e:\n",
        "    print(f\"JSON 파싱 실패: {e}\")"
      ],
      "metadata": {
        "id": "JpmgdsW9V0CY",
        "colab": {
          "base_uri": "https://localhost:8080/"
        },
        "outputId": "a188f244-5849-4a70-fcc9-15aeacb9e7bf"
      },
      "execution_count": 10,
      "outputs": [
        {
          "output_type": "stream",
          "name": "stdout",
          "text": [
            "API 응답: {'latitude': 37.6, 'longitude': 127.0, 'generationtime_ms': 0.027894973754882812, 'utc_offset_seconds': 0, 'timezone': 'GMT', 'timezone_abbreviation': 'GMT', 'elevation': 29.0, 'current_units': {'time': 'iso8601', 'interval': 'seconds', 'temperature_2m': '°C'}, 'current': {'time': '2025-09-13T13:15', 'interval': 900, 'temperature_2m': 20.8}}\n",
            "서울시 종로구의 현재 온도는 : 20.8°C 입니다.\n"
          ]
        }
      ]
    },
    {
      "cell_type": "markdown",
      "source": [
        "## 4-5 Selenium과 lxml을 이용한 웹 스크래핑"
      ],
      "metadata": {
        "id": "RLfPaa1ZiqIC"
      }
    },
    {
      "cell_type": "code",
      "source": [
        "!curl -o google-chrome-stable_current_amd64.deb https://dl.google.com/linux/direct/google-chrome-stable_current_amd64.deb\n",
        "!apt install ./google-chrome-stable_current_amd64.deb -y\n",
        "!pip install selenium webdriver_manager"
      ],
      "metadata": {
        "id": "79dmM7MNk8pB",
        "colab": {
          "base_uri": "https://localhost:8080/"
        },
        "outputId": "095fe5b5-7829-4c42-fda8-2e3a5e52bd73"
      },
      "execution_count": 11,
      "outputs": [
        {
          "output_type": "stream",
          "name": "stdout",
          "text": [
            "  % Total    % Received % Xferd  Average Speed   Time    Time     Time  Current\n",
            "                                 Dload  Upload   Total   Spent    Left  Speed\n",
            "100  115M  100  115M    0     0   203M      0 --:--:-- --:--:-- --:--:--  203M\n",
            "Reading package lists... Done\n",
            "Building dependency tree... Done\n",
            "Reading state information... Done\n",
            "Note, selecting 'google-chrome-stable' instead of './google-chrome-stable_current_amd64.deb'\n",
            "The following additional packages will be installed:\n",
            "  libvulkan1 mesa-vulkan-drivers\n",
            "The following NEW packages will be installed:\n",
            "  google-chrome-stable libvulkan1 mesa-vulkan-drivers\n",
            "0 upgraded, 3 newly installed, 0 to remove and 35 not upgraded.\n",
            "Need to get 10.9 MB/131 MB of archives.\n",
            "After this operation, 447 MB of additional disk space will be used.\n",
            "Get:1 http://archive.ubuntu.com/ubuntu jammy/main amd64 libvulkan1 amd64 1.3.204.1-2 [128 kB]\n",
            "Get:2 http://archive.ubuntu.com/ubuntu jammy-updates/main amd64 mesa-vulkan-drivers amd64 23.2.1-1ubuntu3.1~22.04.3 [10.7 MB]\n",
            "Get:3 /content/google-chrome-stable_current_amd64.deb google-chrome-stable amd64 140.0.7339.127-1 [121 MB]\n",
            "Fetched 10.9 MB in 1s (18.9 MB/s)\n",
            "Selecting previously unselected package libvulkan1:amd64.\n",
            "(Reading database ... 126374 files and directories currently installed.)\n",
            "Preparing to unpack .../libvulkan1_1.3.204.1-2_amd64.deb ...\n",
            "Unpacking libvulkan1:amd64 (1.3.204.1-2) ...\n",
            "Selecting previously unselected package google-chrome-stable.\n",
            "Preparing to unpack .../google-chrome-stable_current_amd64.deb ...\n",
            "Unpacking google-chrome-stable (140.0.7339.127-1) ...\n",
            "Selecting previously unselected package mesa-vulkan-drivers:amd64.\n",
            "Preparing to unpack .../mesa-vulkan-drivers_23.2.1-1ubuntu3.1~22.04.3_amd64.deb ...\n",
            "Unpacking mesa-vulkan-drivers:amd64 (23.2.1-1ubuntu3.1~22.04.3) ...\n",
            "Setting up libvulkan1:amd64 (1.3.204.1-2) ...\n",
            "Setting up mesa-vulkan-drivers:amd64 (23.2.1-1ubuntu3.1~22.04.3) ...\n",
            "Setting up google-chrome-stable (140.0.7339.127-1) ...\n",
            "update-alternatives: using /usr/bin/google-chrome-stable to provide /usr/bin/x-www-browser (x-www-browser) in auto mode\n",
            "update-alternatives: using /usr/bin/google-chrome-stable to provide /usr/bin/gnome-www-browser (gnome-www-browser) in auto mode\n",
            "update-alternatives: using /usr/bin/google-chrome-stable to provide /usr/bin/google-chrome (google-chrome) in auto mode\n",
            "Processing triggers for man-db (2.10.2-1) ...\n",
            "Processing triggers for mailcap (3.70+nmu1ubuntu1) ...\n",
            "Processing triggers for libc-bin (2.35-0ubuntu3.8) ...\n",
            "/sbin/ldconfig.real: /usr/local/lib/libur_loader.so.0 is not a symbolic link\n",
            "\n",
            "/sbin/ldconfig.real: /usr/local/lib/libur_adapter_opencl.so.0 is not a symbolic link\n",
            "\n",
            "/sbin/ldconfig.real: /usr/local/lib/libtcm.so.1 is not a symbolic link\n",
            "\n",
            "/sbin/ldconfig.real: /usr/local/lib/libur_adapter_level_zero.so.0 is not a symbolic link\n",
            "\n",
            "/sbin/ldconfig.real: /usr/local/lib/libumf.so.0 is not a symbolic link\n",
            "\n",
            "/sbin/ldconfig.real: /usr/local/lib/libtcm_debug.so.1 is not a symbolic link\n",
            "\n",
            "/sbin/ldconfig.real: /usr/local/lib/libtbbbind_2_0.so.3 is not a symbolic link\n",
            "\n",
            "/sbin/ldconfig.real: /usr/local/lib/libur_adapter_level_zero_v2.so.0 is not a symbolic link\n",
            "\n",
            "/sbin/ldconfig.real: /usr/local/lib/libtbbmalloc.so.2 is not a symbolic link\n",
            "\n",
            "/sbin/ldconfig.real: /usr/local/lib/libtbbbind.so.3 is not a symbolic link\n",
            "\n",
            "/sbin/ldconfig.real: /usr/local/lib/libtbb.so.12 is not a symbolic link\n",
            "\n",
            "/sbin/ldconfig.real: /usr/local/lib/libtbbmalloc_proxy.so.2 is not a symbolic link\n",
            "\n",
            "/sbin/ldconfig.real: /usr/local/lib/libtbbbind_2_5.so.3 is not a symbolic link\n",
            "\n",
            "/sbin/ldconfig.real: /usr/local/lib/libhwloc.so.15 is not a symbolic link\n",
            "\n",
            "Collecting selenium\n",
            "  Downloading selenium-4.35.0-py3-none-any.whl.metadata (7.4 kB)\n",
            "Collecting webdriver_manager\n",
            "  Downloading webdriver_manager-4.0.2-py2.py3-none-any.whl.metadata (12 kB)\n",
            "Requirement already satisfied: urllib3<3.0,>=2.5.0 in /usr/local/lib/python3.12/dist-packages (from urllib3[socks]<3.0,>=2.5.0->selenium) (2.5.0)\n",
            "Collecting trio~=0.30.0 (from selenium)\n",
            "  Downloading trio-0.30.0-py3-none-any.whl.metadata (8.5 kB)\n",
            "Collecting trio-websocket~=0.12.2 (from selenium)\n",
            "  Downloading trio_websocket-0.12.2-py3-none-any.whl.metadata (5.1 kB)\n",
            "Requirement already satisfied: certifi>=2025.6.15 in /usr/local/lib/python3.12/dist-packages (from selenium) (2025.8.3)\n",
            "Collecting typing_extensions~=4.14.0 (from selenium)\n",
            "  Downloading typing_extensions-4.14.1-py3-none-any.whl.metadata (3.0 kB)\n",
            "Requirement already satisfied: websocket-client~=1.8.0 in /usr/local/lib/python3.12/dist-packages (from selenium) (1.8.0)\n",
            "Requirement already satisfied: requests in /usr/local/lib/python3.12/dist-packages (from webdriver_manager) (2.32.4)\n",
            "Requirement already satisfied: python-dotenv in /usr/local/lib/python3.12/dist-packages (from webdriver_manager) (1.1.1)\n",
            "Requirement already satisfied: packaging in /usr/local/lib/python3.12/dist-packages (from webdriver_manager) (25.0)\n",
            "Requirement already satisfied: attrs>=23.2.0 in /usr/local/lib/python3.12/dist-packages (from trio~=0.30.0->selenium) (25.3.0)\n",
            "Requirement already satisfied: sortedcontainers in /usr/local/lib/python3.12/dist-packages (from trio~=0.30.0->selenium) (2.4.0)\n",
            "Requirement already satisfied: idna in /usr/local/lib/python3.12/dist-packages (from trio~=0.30.0->selenium) (3.10)\n",
            "Collecting outcome (from trio~=0.30.0->selenium)\n",
            "  Downloading outcome-1.3.0.post0-py2.py3-none-any.whl.metadata (2.6 kB)\n",
            "Requirement already satisfied: sniffio>=1.3.0 in /usr/local/lib/python3.12/dist-packages (from trio~=0.30.0->selenium) (1.3.1)\n",
            "Collecting wsproto>=0.14 (from trio-websocket~=0.12.2->selenium)\n",
            "  Downloading wsproto-1.2.0-py3-none-any.whl.metadata (5.6 kB)\n",
            "Requirement already satisfied: pysocks!=1.5.7,<2.0,>=1.5.6 in /usr/local/lib/python3.12/dist-packages (from urllib3[socks]<3.0,>=2.5.0->selenium) (1.7.1)\n",
            "Requirement already satisfied: charset_normalizer<4,>=2 in /usr/local/lib/python3.12/dist-packages (from requests->webdriver_manager) (3.4.3)\n",
            "Requirement already satisfied: h11<1,>=0.9.0 in /usr/local/lib/python3.12/dist-packages (from wsproto>=0.14->trio-websocket~=0.12.2->selenium) (0.16.0)\n",
            "Downloading selenium-4.35.0-py3-none-any.whl (9.6 MB)\n",
            "\u001b[2K   \u001b[90m━━━━━━━━━━━━━━━━━━━━━━━━━━━━━━━━━━━━━━━━\u001b[0m \u001b[32m9.6/9.6 MB\u001b[0m \u001b[31m73.1 MB/s\u001b[0m eta \u001b[36m0:00:00\u001b[0m\n",
            "\u001b[?25hDownloading webdriver_manager-4.0.2-py2.py3-none-any.whl (27 kB)\n",
            "Downloading trio-0.30.0-py3-none-any.whl (499 kB)\n",
            "\u001b[2K   \u001b[90m━━━━━━━━━━━━━━━━━━━━━━━━━━━━━━━━━━━━━━━━\u001b[0m \u001b[32m499.2/499.2 kB\u001b[0m \u001b[31m26.8 MB/s\u001b[0m eta \u001b[36m0:00:00\u001b[0m\n",
            "\u001b[?25hDownloading trio_websocket-0.12.2-py3-none-any.whl (21 kB)\n",
            "Downloading typing_extensions-4.14.1-py3-none-any.whl (43 kB)\n",
            "\u001b[2K   \u001b[90m━━━━━━━━━━━━━━━━━━━━━━━━━━━━━━━━━━━━━━━━\u001b[0m \u001b[32m43.9/43.9 kB\u001b[0m \u001b[31m2.5 MB/s\u001b[0m eta \u001b[36m0:00:00\u001b[0m\n",
            "\u001b[?25hDownloading outcome-1.3.0.post0-py2.py3-none-any.whl (10 kB)\n",
            "Downloading wsproto-1.2.0-py3-none-any.whl (24 kB)\n",
            "Installing collected packages: wsproto, typing_extensions, outcome, webdriver_manager, trio, trio-websocket, selenium\n",
            "  Attempting uninstall: typing_extensions\n",
            "    Found existing installation: typing_extensions 4.15.0\n",
            "    Uninstalling typing_extensions-4.15.0:\n",
            "      Successfully uninstalled typing_extensions-4.15.0\n",
            "Successfully installed outcome-1.3.0.post0 selenium-4.35.0 trio-0.30.0 trio-websocket-0.12.2 typing_extensions-4.14.1 webdriver_manager-4.0.2 wsproto-1.2.0\n"
          ]
        }
      ]
    },
    {
      "cell_type": "code",
      "source": [
        "from selenium import webdriver\n",
        "from selenium.webdriver.chrome.service import Service as ChromeService\n",
        "from webdriver_manager.chrome import ChromeDriverManager\n",
        "from selenium.webdriver.common.by import By\n",
        "from lxml import html\n",
        "import time\n",
        "\n",
        "chrome_options = webdriver.ChromeOptions()\n",
        "chrome_options.add_argument('--headless')               # 브라우저 창 없이 실행\n",
        "chrome_options.add_argument('--no-sandbox')             # 보안모드 비활성화 (Colab 필수)\n",
        "chrome_options.add_argument('--disable-dev-shm-usage')  # 메모리 부족 방지 (Colab 필수)\n",
        "chrome_options.add_argument('--window-size=1920x1080')  # 창 크기 설정(가상)\n",
        "chrome_options.add_argument('--disable-gpu')            # GPU 가속 비활성화 (일부 환경 안정성)\n",
        "chrome_options.binary_location = \"/usr/bin/google-chrome-stable\"  # Colab용 크롬 경로 지정\n",
        "\n",
        "## 드라이버 실행\n",
        "driver = webdriver.Chrome(options=chrome_options)\n",
        "\n",
        "## 사이트 접속\n",
        "#url = 'https://professor.knou.ac.kr/jaehwachung/index.do'\n",
        "url = 'https://professor.knou.ac.kr/sites/jaehwachung/index.do'\n",
        "\n",
        "driver.get(url)\n",
        "\n",
        "## 사이트 접속 대기\n",
        "time.sleep(3)\n",
        "\n",
        "## 페이지 제목 출력\n",
        "page_source = driver.page_source\n",
        "tree = html.fromstring(page_source)\n",
        "\n",
        "title_text = tree.xpath('//title/text()')\n",
        "print(title_text)\n",
        "print(page_source)\n",
        "## 드라이버 종료\n",
        "driver.quit()"
      ],
      "metadata": {
        "id": "cRC8x3_iW0im",
        "colab": {
          "base_uri": "https://localhost:8080/"
        },
        "outputId": "61a7c278-2152-4d7a-f535-01456dbc2461"
      },
      "execution_count": 20,
      "outputs": [
        {
          "output_type": "stream",
          "name": "stdout",
          "text": [
            "['\\n\\t\\tAlert \\n\\t\\t\\n\\t']\n",
            "<html dir=\"ltr\" lang=\"ko\" class=\"_mngr  js flexbox flexboxlegacy canvas canvastext webgl no-touch geolocation postmessage no-websqldatabase indexeddb hashchange history draganddrop websockets rgba hsla multiplebgs backgroundsize borderimage borderradius boxshadow textshadow opacity cssanimations csscolumns cssgradients cssreflections csstransforms csstransforms3d csstransitions fontface generatedcontent video audio localstorage sessionstorage webworkers no-applicationcache svg inlinesvg smil svgclippaths\" style=\"\"><!--<![endif]--><head>\n",
            "\t<meta charset=\"UTF-8\">\n",
            "\t<title>\n",
            "\t\tAlert \n",
            "\t\t\n",
            "\t</title>\n",
            "\t<meta property=\"og:url\" content=\"http://www.k2web.co.kr/\">\n",
            "\t<meta property=\"og:type\" content=\"website\">\n",
            "\t<meta property=\"og:title\" content=\"K2WebWizard\">\n",
            "\t<meta property=\"og:description\" content=\"And everyone hopes to be free from the Internet\">\n",
            "\t\n",
            "\n",
            "\t<!-- 공통 js/css -->\n",
            "\t\n",
            "\n",
            "\n",
            "\n",
            "\n",
            "\n",
            "\n",
            "\n",
            "\n",
            "\n",
            "\n",
            "\n",
            "\n",
            "\n",
            "\n",
            "\n",
            "\n",
            "\n",
            "\n",
            " \n",
            "\n",
            "\t<!-- ///// 공통 js/css /////////////////////////////////////////////////////////////////////////////////////// -->\n",
            "\t\n",
            "\t\n",
            "\n",
            " \t<meta http-equiv=\"X-UA-Compatible\" content=\"IE=edge\">\n",
            "\t\n",
            "\n",
            "\t\n",
            "\t<script src=\"/Web-home/js/jquery-1.9.1.min.js\"></script>\n",
            "\t<script src=\"/Web-home/js/jquery-ui-1.11.0.js\"></script>\n",
            "\t<script src=\"/Web-home/plugin/simplemodal/js/jquery.simplemodal-1.4.4.js\"></script>\n",
            "\t\n",
            "\t<script src=\"/Web-home/js/jquery.blockUI.js\"></script>\n",
            "\t<script>\n",
            "\t\tvar urlPattern = \".do\";\n",
            "\t\tvar defaultTextSiteId = \"\";\n",
            "\t\tvar ctxPath = \"\";\n",
            "\t</script>\n",
            "\t<script src=\"/Web-home/js/common.js\"></script>\n",
            "\t\n",
            "\t<script src=\"/Web-home/_UI/js/_lib/modernizr.min.js\"></script>\n",
            "\t<script src=\"/Web-home/_UI/js/_lib/jquery.mCustomScrollbar.js\"></script><script src=\"/Web-home/js/jquery.mousewheel.min.js\"></script>\n",
            "\t\n",
            "\t\n",
            "\t<link rel=\"stylesheet\" href=\"/Web-home/_UI/css/common/mCustomScrollbar.css\">\n",
            "\t<link rel=\"stylesheet\" href=\"/Web-home/_UI/css/guide/responsive.css\">\n",
            "\t\n",
            "\n",
            "\n",
            "\t<script src=\"/Web-home/js/jquery-migrate-1.2.1.js\"></script>\n",
            "\t\n",
            "\t\n",
            "\t<script src=\"/Web-home/plugin/jstree/jstree.js\"></script>\n",
            "\t\n",
            "\t\n",
            "\t<script src=\"/Web-home/_UI/js/common/common.js\"></script>\n",
            "\t<script src=\"/Web-home/_UI/js/_lib/jquery.selectBoxIt.js\"></script>\n",
            "\t<script src=\"/Web-home/_UI/js/_lib/jquery.bxslider.js\"></script>\n",
            "\t<script src=\"/Web-home/_UI/js/_lib/jquery.jshowoff.js\"></script>\n",
            "\t<script src=\"/Web-home/_UI/js/_lib/jquery.sliderkit.js\"></script>\n",
            "\t<script src=\"/Web-home/_UI/js/_lib/jquery.dataTables.js\"></script>\n",
            "\t<script src=\"/Web-home/_UI/js/_lib/masonry.pkgd.js\"></script>\n",
            "\t<script src=\"/Web-home/_UI/js/_lib/jquery.nyroModal.js\"></script>\n",
            "\t<script src=\"/Web-home/_UI/js/_lib/jquery-linedtextarea.js\"></script>\n",
            "\t<script src=\"/Web-home/_UI/js/common/modalSize.js\"></script>\n",
            "\t<script src=\"/Web-home/_UI/js/guide/textEditor.js\"></script>\n",
            "\t\n",
            "\t\n",
            "\t<link rel=\"stylesheet\" href=\"/Web-home/_UI/css/common/jquery-ui.css\">\n",
            "\t<link rel=\"stylesheet\" href=\"/Web-home/plugin/jstree/themes/default/style.css\">\n",
            "\t\n",
            "\t\n",
            "\t\n",
            "\t<link rel=\"stylesheet\" href=\"/Web-home/_UI/css/common/common.css\">\n",
            "\t<!-- ///// 공통 js/css /////////////////////////////////////////////////////////////////////////////////////// -->\n",
            "\n",
            "\t<script>\n",
            "\t\t$(document).ready(function() {\n",
            "\t\t\t$(\"._selectDesktop\").click(function() {\n",
            "\t\t\t\t$(\"#_modeVer\").text(\"Desktop\");\n",
            "\t\t\t});\n",
            "\t\t\t$(\"._selectTablet\").click(function() {\n",
            "\t\t\t\t$(\"#_modeVer\").text(\"Tablet\");\n",
            "\t\t\t});\n",
            "\t\t\t$(\"._selectMobile\").click(function() {\n",
            "\t\t\t\t$(\"#_modeVer\").text(\"Mobile\");\n",
            "\t\t\t});\n",
            "\t\t});\n",
            "\t</script>\n",
            "\t\n",
            "\n",
            "\t\n",
            "\t<link media=\"only screen and (max-width: 380px)\" href=\"/Web-home/_UI/css/guide/responsiveMobile.css\" rel=\"stylesheet\">\n",
            "\t<link media=\"only screen and (min-width: 381px) and (max-width: 768px)\" href=\"/Web-home/_UI/css/guide/responsiveTablet.css\" rel=\"stylesheet\">\n",
            "\t<link media=\"only screen and (min-width: 769px)\" href=\"/Web-home/_UI/css/guide/responsiveDesktop.css\" rel=\"stylesheet\">\n",
            "\n",
            "\t<!-- 개설 관리자 -->\n",
            "\t<script src=\"/Web-home/_UI/js/siteMngr/basic/commonSiteMngr.js\"></script>\n",
            "\t\n",
            "\t<link rel=\"stylesheet\" href=\"/Web-home/_UI/css/siteMngr/modeMngr.css\">\n",
            "\t\n",
            "\t<link media=\"only screen and (max-width: 380px)\" href=\"/Web-home/_UI/css/siteMngr/modeEditMobile.css\" rel=\"stylesheet\">\n",
            "\t<link media=\"only screen and (min-width: 381px) and (max-width: 768px)\" href=\"/Web-home/_UI/css/siteMngr/modeEditTablet.css\" rel=\"stylesheet\">\n",
            "\t<link media=\"only screen and (min-width: 769px)\" href=\"/Web-home/_UI/css/siteMngr/modeEditDesktop.css\" rel=\"stylesheet\">\n",
            "\t\n",
            "\t\n",
            "\t<script type=\"text/javascript\">\n",
            "\tfunction adjustStyle(width) {\n",
            "\t\twidth = parseInt(width);\n",
            "\t\tif ((width < 380)) {/*mobile*/\n",
            "\t\t\t$(\"body\").removeClass(\"Desktop\");\n",
            "\t\t\t$(\"body\").removeClass(\"Tablet\");\n",
            "\t\t\t$(\"body\").addClass(\"Mobile\");\n",
            "\t\t\t$(\"#_modeVer\").text(\"Mobile\");\n",
            "\t\t} else if ((width >= 381) && (width <= 768)) {/*Tablet*/\n",
            "\t\t\t$(\"body\").removeClass(\"Desktop\");\n",
            "\t\t\t$(\"body\").addClass(\"Tablet\");\n",
            "\t\t\t$(\"body\").removeClass(\"Mobile\");\n",
            "\t\t\t$(\"#_modeVer\").text(\"Tablet\");\n",
            "\t\t} else if ((width > 769)) {/*Desktop*/\n",
            "\t\t\t$(\"body\").addClass(\"Desktop\");\n",
            "\t\t\t$(\"body\").removeClass(\"Tablet\");\n",
            "\t\t\t$(\"body\").removeClass(\"Mobile\");\n",
            "\t\t\t$(\"#_modeVer\").text(\"Desktop\");\n",
            "\t\t\t$(\"#_articleFrame\").addClass(\"Desktop\");\n",
            "\t\t\t$(\"#_articleFrame\").removeClass(\"Tablet\");\n",
            "\t\t\t$(\"#_articleFrame\").removeClass(\"Mobile\");\n",
            "\t\t\t$(\"#_responsiveTool ul li ._selectDesktop\").addClass(\"_on\");\n",
            "\t\t\t$(\"#_responsiveTool ul li ._selectTablet\").removeClass(\"_on\");\n",
            "\t\t\t$(\"#_responsiveTool ul li ._selectMobile\").removeClass(\"_on\");\n",
            "\t\t}\n",
            "\t}\n",
            "\t$(function() {\n",
            "\t\tadjustStyle($(this).width());\n",
            "\t\t$(window).resize(function() {\n",
            "\t\t\tadjustStyle($(this).width());\n",
            "\t\t});\n",
            "\t});\n",
            "\t\n",
            "\tfunction fncGoAfterErrorPage(){\n",
            "\t    history.back(-2);\n",
            "\t}\n",
            "\t</script>\n",
            "</head>\n",
            "\n",
            "<body class=\"_message Desktop\">\n",
            "\t<!-- 500 error -->\n",
            "\t<div class=\"_messageOverlay\">\n",
            "\t\t<div class=\"_msgWrap _result\">\n",
            "\t\t\t<div class=\"_inner\" style=\"left: 195px; top: 121px;\">\n",
            "\t\t\t\t<div class=\"_message\">\n",
            "\t\t\t\t\t<h2>\n",
            "\t\t\t\t\t\t알립니다.\n",
            "\t\t\t\t\t</h2>\n",
            "\t\t\t\t\t<p>\t\n",
            "\t\t\t\t\t\t\n",
            "\t\t\t\t\t\t원하시는 페이지를 찾을 수가 없습니다.\n",
            "\t\t\t\t\t</p>\n",
            "\t\t\t\t</div><!-- END class=\"_message\" -->\n",
            "\t\t\t\t<div class=\"_areaButton\">\n",
            "\t\t\t\t\t<div class=\"_center\">\n",
            "\t\t\t\t\t\t<span class=\"_button _large _active\">\n",
            "\t\t\t\t\t\t\t\n",
            "\t\t\t\t\t\t\t\n",
            "\t\t\t\t\t\t\t<input type=\"button\" value=\"이전화면으로\" onclick=\"fncGoAfterErrorPage();\">\n",
            "\t\t\t\t\t\t</span>\n",
            "\t\t\t\t\t</div>\n",
            "\t\t\t\t</div><!-- END class=\"_areaButton\" -->\n",
            "\t\t\t</div><!-- END class=\"_inner\" -->\n",
            "\t\t</div><!-- END class=\"_msgWrap _result\" -->\n",
            "\t</div>\n",
            "\n",
            "<div></div></body></html>\n"
          ]
        }
      ]
    },
    {
      "cell_type": "markdown",
      "source": [
        "\n",
        "# 실습 시나리오"
      ],
      "metadata": {
        "id": "Bu6OMZyGirOq"
      }
    },
    {
      "cell_type": "markdown",
      "source": [
        "## 공공데이터 포털 가입 및 데이터 신청\n",
        "\n",
        "- [https://www.data.go.kr](https://www.data.go.kr)\n",
        "- 한국환경공단 에어코리아 대기오염정보 데이터 신청"
      ],
      "metadata": {
        "id": "nsuqRN9RkZlW"
      }
    },
    {
      "cell_type": "code",
      "source": [
        "import requests\n",
        "\n",
        "## 데이터 수집 url 및 api key 설정\n",
        " url =''\n",
        " api_key =''\n",
        "\n",
        "params = {\n",
        "    'serviceKey': api_key,\n",
        "    'returnType': 'json',\n",
        "    'numOfRows': '100',\n",
        "    'pageNo': '1',\n",
        "    'sidoName': '서울',\n",
        "    'ver': '1.0'\n",
        "}\n",
        "\n",
        "## 데이터 수집\n",
        "response = requests.get(url, params=params)\n",
        "\n",
        "## 호출 성공/실패 출력\n",
        "print(response.json())\n"
      ],
      "metadata": {
        "id": "7yCozmQeXJcO",
        "colab": {
          "base_uri": "https://localhost:8080/",
          "height": 245
        },
        "outputId": "8d8d1cd3-f5c4-4a31-ad20-2a7c9ceb7443"
      },
      "execution_count": 1,
      "outputs": [
        {
          "output_type": "error",
          "ename": "NameError",
          "evalue": "name 'api_key' is not defined",
          "traceback": [
            "\u001b[0;31m---------------------------------------------------------------------------\u001b[0m",
            "\u001b[0;31mNameError\u001b[0m                                 Traceback (most recent call last)",
            "\u001b[0;32m/tmp/ipython-input-274437274.py\u001b[0m in \u001b[0;36m<cell line: 0>\u001b[0;34m()\u001b[0m\n\u001b[1;32m      5\u001b[0m \u001b[0;34m\u001b[0m\u001b[0m\n\u001b[1;32m      6\u001b[0m params = {\n\u001b[0;32m----> 7\u001b[0;31m     \u001b[0;34m'serviceKey'\u001b[0m\u001b[0;34m:\u001b[0m \u001b[0mapi_key\u001b[0m\u001b[0;34m,\u001b[0m\u001b[0;34m\u001b[0m\u001b[0;34m\u001b[0m\u001b[0m\n\u001b[0m\u001b[1;32m      8\u001b[0m     \u001b[0;34m'returnType'\u001b[0m\u001b[0;34m:\u001b[0m \u001b[0;34m'json'\u001b[0m\u001b[0;34m,\u001b[0m\u001b[0;34m\u001b[0m\u001b[0;34m\u001b[0m\u001b[0m\n\u001b[1;32m      9\u001b[0m     \u001b[0;34m'numOfRows'\u001b[0m\u001b[0;34m:\u001b[0m \u001b[0;34m'100'\u001b[0m\u001b[0;34m,\u001b[0m\u001b[0;34m\u001b[0m\u001b[0;34m\u001b[0m\u001b[0m\n",
            "\u001b[0;31mNameError\u001b[0m: name 'api_key' is not defined"
          ]
        }
      ]
    }
  ]
}